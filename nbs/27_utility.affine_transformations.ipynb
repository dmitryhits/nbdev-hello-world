{
 "cells": [
  {
   "cell_type": "code",
   "execution_count": null,
   "metadata": {},
   "outputs": [],
   "source": [
    "#| default_exp utility.affine_transformations"
   ]
  },
  {
   "cell_type": "code",
   "execution_count": null,
   "metadata": {},
   "outputs": [],
   "source": [
    "#| hide\n",
    "from nbdev.showdoc import *"
   ]
  },
  {
   "cell_type": "markdown",
   "metadata": {},
   "source": [
    "# Affine transforms\n",
    "> methods to apply 2D affine transformations"
   ]
  },
  {
   "cell_type": "code",
   "execution_count": null,
   "metadata": {},
   "outputs": [],
   "source": [
    "#| export\n",
    "from numpy import array, append, sin, cos, ones\n",
    "from numpy.linalg import inv"
   ]
  },
  {
   "cell_type": "code",
   "execution_count": null,
   "metadata": {},
   "outputs": [],
   "source": [
    "#| export\n",
    "def scale_matrix(sx=1, sy=None):\n",
    "    return array([[sx, 0, 0], [0, sx if sy is None else sy, 0], [0, 0, 1]])"
   ]
  },
  {
   "cell_type": "code",
   "execution_count": null,
   "metadata": {},
   "outputs": [],
   "source": [
    "#| export\n",
    "def transition_matrix(ox=0, oy=0):\n",
    "    return array([[1, 0, ox], [0, 1, oy], [0, 0, 1]])"
   ]
  },
  {
   "cell_type": "code",
   "execution_count": null,
   "metadata": {},
   "outputs": [],
   "source": [
    "#| export\n",
    "def rotation_matrix(rx=0, ry=None):\n",
    "    x = [cos(rx), -sin(rx), 0] if ry is None else append(rx[:2], 0)\n",
    "    y = [sin(rx), cos(rx), 0] if ry is None else append(ry[:2], 0)\n",
    "    return array([x, y, [0, 0, 1]])"
   ]
  },
  {
   "cell_type": "code",
   "execution_count": null,
   "metadata": {},
   "outputs": [],
   "source": [
    "#| export\n",
    "def matrix_order(order):\n",
    "    d = {'s': 0, 't': 1, 'r': 2}\n",
    "    return array([d[i] for i in order])"
   ]
  },
  {
   "cell_type": "code",
   "execution_count": null,
   "metadata": {},
   "outputs": [],
   "source": [
    "#| export\n",
    "def multiply(m0, m1, m2):\n",
    "    \"\"\"returns: M0 * M1 * M2 \"\"\"\n",
    "    return m0 @ m1 @ m2"
   ]
  },
  {
   "cell_type": "code",
   "execution_count": null,
   "metadata": {},
   "outputs": [],
   "source": [
    "#| export\n",
    "def matrix(sx=1, sy=1, ox=0, oy=0, rx=0, ry=None, order='srt'):\n",
    "    s, t, r = scale_matrix(sx, sy), transition_matrix(ox, oy), rotation_matrix(rx, ry)\n",
    "    return multiply(*array([s, t, r])[matrix_order(order)])"
   ]
  },
  {
   "cell_type": "code",
   "execution_count": null,
   "metadata": {},
   "outputs": [],
   "source": [
    "#| export\n",
    "def transform(x, y, sx=1, sy=1, ox=0, oy=0, rx=0, ry=None, order='srt', invert=False):\n",
    "    m = matrix(sx, sy, ox, oy, rx, ry, order)\n",
    "    return ((inv(m) if invert else m) @ array([x, y, ones(x.size, 'i')]))[:2]"
   ]
  },
  {
   "cell_type": "code",
   "execution_count": null,
   "metadata": {},
   "outputs": [],
   "source": [
    "#| export\n",
    "def m_transform(m, x, y, invert=False):\n",
    "    return ((inv(m) if invert else m) @ array([x, y, ones(x.size, 'i')]))[:2]"
   ]
  },
  {
   "cell_type": "code",
   "execution_count": null,
   "metadata": {},
   "outputs": [],
   "source": [
    "#| hide\n",
    "from nbdev import *\n",
    "nbdev_export()"
   ]
  },
  {
   "cell_type": "code",
   "execution_count": null,
   "metadata": {},
   "outputs": [],
   "source": []
  }
 ],
 "metadata": {
  "jupytext": {
   "split_at_heading": true
  },
  "kernelspec": {
   "display_name": "Python 3 (ipykernel)",
   "language": "python",
   "name": "python3"
  }
 },
 "nbformat": 4,
 "nbformat_minor": 4
}
